{
 "cells": [
  {
   "cell_type": "markdown",
   "id": "e6105ec6",
   "metadata": {},
   "source": [
    "# Perform standard imports"
   ]
  },
  {
   "cell_type": "code",
   "execution_count": 1,
   "id": "80765d2f",
   "metadata": {},
   "outputs": [],
   "source": [
    "id = 336490271\n",
    "Student_name = 'Valentin Gundorov'"
   ]
  },
  {
   "cell_type": "markdown",
   "id": "c8aa4ba9",
   "metadata": {},
   "source": [
    "Note: This work contains numerous comments, which were included for learning purposes and for future reference. I hope this does not hinder the evaluation."
   ]
  },
  {
   "cell_type": "code",
   "execution_count": 2,
   "id": "a9052630",
   "metadata": {},
   "outputs": [],
   "source": [
    "import torch\n",
    "import torch.nn as nn\n",
    "import torch.nn.functional as F          # adds some efficiency\n",
    "from torch.utils.data import DataLoader  # lets us load data in batches\n",
    "from torchvision import datasets, transforms\n",
    "\n",
    "import numpy as np\n",
    "import pandas as pd\n",
    "from sklearn.metrics import confusion_matrix  # for evaluating results\n",
    "import matplotlib.pyplot as plt\n",
    "%matplotlib inline"
   ]
  },
  {
   "cell_type": "markdown",
   "id": "a6414aef",
   "metadata": {},
   "source": [
    "# Load the MNIST dataset"
   ]
  },
  {
   "cell_type": "code",
   "execution_count": 3,
   "id": "8bb8e236",
   "metadata": {},
   "outputs": [],
   "source": [
    "transform = transforms.ToTensor()"
   ]
  },
  {
   "cell_type": "markdown",
   "id": "e37c724b",
   "metadata": {},
   "source": [
    "# Load the training set"
   ]
  },
  {
   "cell_type": "code",
   "execution_count": 4,
   "id": "ccc05f9a",
   "metadata": {},
   "outputs": [
    {
     "data": {
      "text/plain": [
       "Dataset MNIST\n",
       "    Number of datapoints: 60000\n",
       "    Root location: Data\n",
       "    Split: Train\n",
       "    StandardTransform\n",
       "Transform: ToTensor()"
      ]
     },
     "execution_count": 4,
     "metadata": {},
     "output_type": "execute_result"
    }
   ],
   "source": [
    "train_data = datasets.MNIST(root='Data', train=True, download=True, transform=transform)\n",
    "train_data"
   ]
  },
  {
   "cell_type": "markdown",
   "id": "f09f13d5",
   "metadata": {},
   "source": [
    "# Load the test set"
   ]
  },
  {
   "cell_type": "code",
   "execution_count": 5,
   "id": "17ca950f",
   "metadata": {},
   "outputs": [
    {
     "data": {
      "text/plain": [
       "Dataset MNIST\n",
       "    Number of datapoints: 10000\n",
       "    Root location: Data\n",
       "    Split: Test\n",
       "    StandardTransform\n",
       "Transform: ToTensor()"
      ]
     },
     "execution_count": 5,
     "metadata": {},
     "output_type": "execute_result"
    }
   ],
   "source": [
    "test_data = datasets.MNIST(root='Data', train=False, download=True, transform=transform)\n",
    "test_data"
   ]
  },
  {
   "cell_type": "code",
   "execution_count": 6,
   "id": "61d9422b",
   "metadata": {},
   "outputs": [
    {
     "data": {
      "text/plain": [
       "torchvision.datasets.mnist.MNIST"
      ]
     },
     "execution_count": 6,
     "metadata": {},
     "output_type": "execute_result"
    }
   ],
   "source": [
    "type(train_data)"
   ]
  },
  {
   "cell_type": "markdown",
   "id": "a411fbf9",
   "metadata": {},
   "source": [
    "# Examine a training record and exploring data"
   ]
  },
  {
   "cell_type": "code",
   "execution_count": 7,
   "id": "99af1467",
   "metadata": {
    "scrolled": false
   },
   "outputs": [
    {
     "data": {
      "text/plain": [
       "(tensor([[[0.0000, 0.0000, 0.0000, 0.0000, 0.0000, 0.0000, 0.0000, 0.0000,\n",
       "           0.0000, 0.0000, 0.0000, 0.0000, 0.0000, 0.0000, 0.0000, 0.0000,\n",
       "           0.0000, 0.0000, 0.0000, 0.0000, 0.0000, 0.0000, 0.0000, 0.0000,\n",
       "           0.0000, 0.0000, 0.0000, 0.0000],\n",
       "          [0.0000, 0.0000, 0.0000, 0.0000, 0.0000, 0.0000, 0.0000, 0.0000,\n",
       "           0.0000, 0.0000, 0.0000, 0.0000, 0.0000, 0.0000, 0.0000, 0.0000,\n",
       "           0.0000, 0.0000, 0.0000, 0.0000, 0.0000, 0.0000, 0.0000, 0.0000,\n",
       "           0.0000, 0.0000, 0.0000, 0.0000],\n",
       "          [0.0000, 0.0000, 0.0000, 0.0000, 0.0000, 0.0000, 0.0000, 0.0000,\n",
       "           0.0000, 0.0000, 0.0000, 0.0000, 0.0000, 0.0000, 0.0000, 0.0000,\n",
       "           0.0000, 0.0000, 0.0000, 0.0000, 0.0000, 0.0000, 0.0000, 0.0000,\n",
       "           0.0000, 0.0000, 0.0000, 0.0000],\n",
       "          [0.0000, 0.0000, 0.0000, 0.0000, 0.0000, 0.0000, 0.0000, 0.0000,\n",
       "           0.0000, 0.0000, 0.0000, 0.0000, 0.0000, 0.0000, 0.0000, 0.0000,\n",
       "           0.0000, 0.0000, 0.0000, 0.0000, 0.0000, 0.0000, 0.0000, 0.0000,\n",
       "           0.0000, 0.0000, 0.0000, 0.0000],\n",
       "          [0.0000, 0.0000, 0.0000, 0.0000, 0.0000, 0.0000, 0.0000, 0.0000,\n",
       "           0.0000, 0.0000, 0.0000, 0.0000, 0.0000, 0.0000, 0.0000, 0.0000,\n",
       "           0.0000, 0.0000, 0.0000, 0.0000, 0.0000, 0.0000, 0.0000, 0.0000,\n",
       "           0.0000, 0.0000, 0.0000, 0.0000],\n",
       "          [0.0000, 0.0000, 0.0000, 0.0000, 0.0000, 0.0000, 0.0000, 0.0000,\n",
       "           0.0000, 0.0000, 0.0000, 0.0000, 0.0000, 0.0000, 0.0000, 0.0000,\n",
       "           0.0000, 0.0000, 0.0000, 0.0000, 0.0000, 0.0000, 0.0000, 0.0000,\n",
       "           0.0000, 0.0000, 0.0000, 0.0000],\n",
       "          [0.0000, 0.0000, 0.0000, 0.0000, 0.0000, 0.0000, 0.0000, 0.0000,\n",
       "           0.0000, 0.0000, 0.0000, 0.0000, 0.0000, 0.0000, 0.0000, 0.0000,\n",
       "           0.0000, 0.0000, 0.0000, 0.0000, 0.0000, 0.0000, 0.0000, 0.0000,\n",
       "           0.0000, 0.0000, 0.0000, 0.0000],\n",
       "          [0.0000, 0.0000, 0.0000, 0.0000, 0.0000, 0.0000, 0.0000, 0.0000,\n",
       "           0.0000, 0.0000, 0.0000, 0.0000, 0.0000, 0.0000, 0.1765, 0.4039,\n",
       "           0.9961, 0.9961, 1.0000, 0.7216, 0.2863, 0.0000, 0.0000, 0.0000,\n",
       "           0.0000, 0.0000, 0.0000, 0.0000],\n",
       "          [0.0000, 0.0000, 0.0000, 0.0000, 0.0000, 0.0000, 0.0000, 0.0000,\n",
       "           0.0000, 0.0000, 0.0000, 0.0000, 0.3333, 0.6627, 0.9608, 0.9922,\n",
       "           0.9922, 0.9922, 0.9922, 0.9922, 0.9020, 0.3804, 0.0000, 0.0000,\n",
       "           0.0000, 0.0000, 0.0000, 0.0000],\n",
       "          [0.0000, 0.0000, 0.0000, 0.0000, 0.0000, 0.0000, 0.0000, 0.0000,\n",
       "           0.0000, 0.0000, 0.0000, 0.3569, 0.9137, 0.9922, 0.6275, 0.3490,\n",
       "           0.3725, 0.9098, 0.9922, 0.9922, 0.9922, 0.4902, 0.0000, 0.0000,\n",
       "           0.0000, 0.0000, 0.0000, 0.0000],\n",
       "          [0.0000, 0.0000, 0.0000, 0.0000, 0.0000, 0.0000, 0.0000, 0.0000,\n",
       "           0.0000, 0.0000, 0.0000, 0.7333, 0.9922, 0.4588, 0.0275, 0.0000,\n",
       "           0.0235, 0.5333, 0.9490, 0.9922, 0.9843, 0.4392, 0.0000, 0.0000,\n",
       "           0.0000, 0.0000, 0.0000, 0.0000],\n",
       "          [0.0000, 0.0000, 0.0000, 0.0000, 0.0000, 0.0000, 0.0000, 0.0000,\n",
       "           0.0000, 0.0000, 0.0000, 0.7843, 0.9922, 0.4431, 0.0078, 0.2980,\n",
       "           0.2941, 0.7608, 0.9922, 0.9922, 0.6235, 0.0000, 0.0000, 0.0000,\n",
       "           0.0000, 0.0000, 0.0000, 0.0000],\n",
       "          [0.0000, 0.0000, 0.0000, 0.0000, 0.0000, 0.0000, 0.0000, 0.0000,\n",
       "           0.0000, 0.0000, 0.0000, 0.6941, 0.9922, 0.9373, 0.8941, 0.8471,\n",
       "           0.9922, 0.9922, 0.9922, 0.6784, 0.0392, 0.0000, 0.0000, 0.0000,\n",
       "           0.0000, 0.0000, 0.0000, 0.0000],\n",
       "          [0.0000, 0.0000, 0.0000, 0.0000, 0.0000, 0.0000, 0.0000, 0.0000,\n",
       "           0.0000, 0.0000, 0.0000, 0.1059, 0.7843, 0.9922, 0.9922, 0.9922,\n",
       "           0.9922, 0.9922, 0.9922, 0.4000, 0.0000, 0.0000, 0.0000, 0.0000,\n",
       "           0.0000, 0.0000, 0.0000, 0.0000],\n",
       "          [0.0000, 0.0000, 0.0000, 0.0000, 0.0000, 0.0000, 0.0000, 0.0000,\n",
       "           0.0000, 0.0000, 0.0000, 0.0000, 0.0235, 0.0549, 0.0588, 0.4000,\n",
       "           0.9922, 0.9922, 0.6235, 0.0196, 0.0000, 0.0000, 0.0000, 0.0000,\n",
       "           0.0000, 0.0000, 0.0000, 0.0000],\n",
       "          [0.0000, 0.0000, 0.0000, 0.0000, 0.0000, 0.0000, 0.0000, 0.0000,\n",
       "           0.0000, 0.0000, 0.0000, 0.0000, 0.0000, 0.0000, 0.1608, 0.8471,\n",
       "           0.9922, 0.7451, 0.0745, 0.0000, 0.0000, 0.0000, 0.0000, 0.0000,\n",
       "           0.0000, 0.0000, 0.0000, 0.0000],\n",
       "          [0.0000, 0.0000, 0.0000, 0.0000, 0.0000, 0.0000, 0.0000, 0.0000,\n",
       "           0.0000, 0.0000, 0.0000, 0.0000, 0.0000, 0.1176, 0.6000, 0.9922,\n",
       "           0.9725, 0.2000, 0.0000, 0.0000, 0.0000, 0.0000, 0.0000, 0.0000,\n",
       "           0.0000, 0.0000, 0.0000, 0.0000],\n",
       "          [0.0000, 0.0000, 0.0000, 0.0000, 0.0000, 0.0000, 0.0000, 0.0000,\n",
       "           0.0000, 0.0000, 0.0000, 0.0000, 0.0000, 0.3686, 0.9922, 0.9882,\n",
       "           0.4706, 0.0667, 0.0000, 0.0000, 0.0000, 0.0000, 0.0000, 0.0000,\n",
       "           0.0000, 0.0000, 0.0000, 0.0000],\n",
       "          [0.0000, 0.0000, 0.0000, 0.0000, 0.0000, 0.0000, 0.0000, 0.0000,\n",
       "           0.0000, 0.0000, 0.0000, 0.0000, 0.1843, 0.9804, 0.9882, 0.5804,\n",
       "           0.0000, 0.0000, 0.0000, 0.0000, 0.0000, 0.0000, 0.0000, 0.0000,\n",
       "           0.0000, 0.0000, 0.0000, 0.0000],\n",
       "          [0.0000, 0.0000, 0.0000, 0.0000, 0.0000, 0.0000, 0.0000, 0.0000,\n",
       "           0.0000, 0.0000, 0.0000, 0.0980, 0.7137, 0.9922, 0.7961, 0.0000,\n",
       "           0.0000, 0.0000, 0.0000, 0.0000, 0.0000, 0.0000, 0.0000, 0.0000,\n",
       "           0.0000, 0.0000, 0.0000, 0.0000],\n",
       "          [0.0000, 0.0000, 0.0000, 0.0000, 0.0000, 0.0000, 0.0000, 0.0000,\n",
       "           0.0000, 0.0000, 0.0000, 0.8078, 0.9922, 0.8627, 0.1961, 0.0000,\n",
       "           0.0000, 0.0000, 0.0000, 0.0000, 0.0000, 0.0000, 0.0000, 0.0000,\n",
       "           0.0000, 0.0000, 0.0000, 0.0000],\n",
       "          [0.0000, 0.0000, 0.0000, 0.0000, 0.0000, 0.0000, 0.0000, 0.0000,\n",
       "           0.0000, 0.0118, 0.3608, 0.9882, 0.9569, 0.4157, 0.0000, 0.0000,\n",
       "           0.0000, 0.0000, 0.0000, 0.0000, 0.0000, 0.0000, 0.0000, 0.0000,\n",
       "           0.0000, 0.0000, 0.0000, 0.0000],\n",
       "          [0.0000, 0.0000, 0.0000, 0.0000, 0.0000, 0.0000, 0.0000, 0.0000,\n",
       "           0.0000, 0.1961, 0.8863, 0.9451, 0.4275, 0.0000, 0.0000, 0.0000,\n",
       "           0.0000, 0.0000, 0.0000, 0.0000, 0.0000, 0.0000, 0.0000, 0.0000,\n",
       "           0.0000, 0.0000, 0.0000, 0.0000],\n",
       "          [0.0000, 0.0000, 0.0000, 0.0000, 0.0000, 0.0000, 0.0000, 0.0000,\n",
       "           0.1569, 0.9216, 0.9922, 0.5373, 0.0941, 0.0000, 0.0000, 0.0000,\n",
       "           0.0000, 0.0000, 0.0000, 0.0000, 0.0000, 0.0000, 0.0000, 0.0000,\n",
       "           0.0000, 0.0000, 0.0000, 0.0000],\n",
       "          [0.0000, 0.0000, 0.0000, 0.0000, 0.0000, 0.0000, 0.0000, 0.0588,\n",
       "           0.8157, 0.9922, 0.7451, 0.1137, 0.0000, 0.0000, 0.0000, 0.0000,\n",
       "           0.0000, 0.0000, 0.0000, 0.0000, 0.0000, 0.0000, 0.0000, 0.0000,\n",
       "           0.0000, 0.0000, 0.0000, 0.0000],\n",
       "          [0.0000, 0.0000, 0.0000, 0.0000, 0.0000, 0.0000, 0.1176, 0.8549,\n",
       "           0.9412, 0.5725, 0.0235, 0.0000, 0.0000, 0.0000, 0.0000, 0.0000,\n",
       "           0.0000, 0.0000, 0.0000, 0.0000, 0.0000, 0.0000, 0.0000, 0.0000,\n",
       "           0.0000, 0.0000, 0.0000, 0.0000],\n",
       "          [0.0000, 0.0000, 0.0000, 0.0000, 0.0000, 0.0157, 0.6275, 0.6549,\n",
       "           0.2745, 0.0000, 0.0000, 0.0000, 0.0000, 0.0000, 0.0000, 0.0000,\n",
       "           0.0000, 0.0000, 0.0000, 0.0000, 0.0000, 0.0000, 0.0000, 0.0000,\n",
       "           0.0000, 0.0000, 0.0000, 0.0000],\n",
       "          [0.0000, 0.0000, 0.0000, 0.0000, 0.0000, 0.0000, 0.0000, 0.0000,\n",
       "           0.0000, 0.0000, 0.0000, 0.0000, 0.0000, 0.0000, 0.0000, 0.0000,\n",
       "           0.0000, 0.0000, 0.0000, 0.0000, 0.0000, 0.0000, 0.0000, 0.0000,\n",
       "           0.0000, 0.0000, 0.0000, 0.0000]]]),\n",
       " 9)"
      ]
     },
     "execution_count": 7,
     "metadata": {},
     "output_type": "execute_result"
    }
   ],
   "source": [
    "train_data[33]"
   ]
  },
  {
   "cell_type": "code",
   "execution_count": 8,
   "id": "fe9fbe8d",
   "metadata": {},
   "outputs": [],
   "source": [
    "image,label = train_data[33]"
   ]
  },
  {
   "cell_type": "code",
   "execution_count": 9,
   "id": "5d199fd8",
   "metadata": {},
   "outputs": [
    {
     "data": {
      "text/plain": [
       "torch.Size([1, 28, 28])"
      ]
     },
     "execution_count": 9,
     "metadata": {},
     "output_type": "execute_result"
    }
   ],
   "source": [
    "image.shape"
   ]
  },
  {
   "cell_type": "code",
   "execution_count": 10,
   "id": "3e1c6915",
   "metadata": {},
   "outputs": [
    {
     "data": {
      "text/plain": [
       "9"
      ]
     },
     "execution_count": 10,
     "metadata": {},
     "output_type": "execute_result"
    }
   ],
   "source": [
    "label"
   ]
  },
  {
   "cell_type": "markdown",
   "id": "bbed0457",
   "metadata": {},
   "source": [
    "# Picture example plot"
   ]
  },
  {
   "cell_type": "code",
   "execution_count": 11,
   "id": "9c17301d",
   "metadata": {},
   "outputs": [
    {
     "data": {
      "text/plain": [
       "<matplotlib.image.AxesImage at 0x28831f86a30>"
      ]
     },
     "execution_count": 11,
     "metadata": {},
     "output_type": "execute_result"
    },
    {
     "data": {
      "image/png": "[encoded data removed]",
      "text/plain": [
       "<Figure size 640x480 with 1 Axes>"
      ]
     },
     "metadata": {},
     "output_type": "display_data"
    }
   ],
   "source": [
    "plt.imshow(image.reshape((28,28)), cmap = 'gist_yarg')"
   ]
  },
  {
   "cell_type": "markdown",
   "id": "36ca9f8a",
   "metadata": {},
   "source": [
    "# Class distribution."
   ]
  },
  {
   "cell_type": "code",
   "execution_count": 12,
   "id": "9df95231",
   "metadata": {},
   "outputs": [
    {
     "data": {
      "image/png": "[encoded data removed]",
      "text/plain": [
       "<Figure size 640x480 with 1 Axes>"
      ]
     },
     "metadata": {},
     "output_type": "display_data"
    }
   ],
   "source": [
    "class PlotDist:\n",
    "    def __init__(self, train_dataset, test_dataset):\n",
    "        self.train_dataset = train_dataset\n",
    "        self.test_dataset = test_dataset\n",
    "\n",
    "    def plot(self):\n",
    "        train_classes_count = {}\n",
    "        for _, label in self.train_dataset:\n",
    "            if label not in train_classes_count:\n",
    "                train_classes_count[label] = 0\n",
    "            train_classes_count[label] += 1\n",
    "\n",
    "        test_classes_count = {}\n",
    "        for _, label in self.test_dataset:\n",
    "            if label not in test_classes_count:\n",
    "                test_classes_count[label] = 0\n",
    "            test_classes_count[label] += 1\n",
    "\n",
    "        fig, ax = plt.subplots()\n",
    "        ax.bar(train_classes_count.keys(), train_classes_count.values(), label='Train')\n",
    "        ax.bar(test_classes_count.keys(), test_classes_count.values(), label='Test')\n",
    "        ax.set_xlabel('Class')\n",
    "        ax.set_ylabel('Count')\n",
    "        ax.set_title('Distribution of Classes in MNIST Dataset')\n",
    "        ax.legend()\n",
    "        plt.show()\n",
    "\n",
    "plotter = PlotDist(train_data, test_data)\n",
    "plotter.plot()"
   ]
  },
  {
   "cell_type": "code",
   "execution_count": null,
   "id": "0d96f4c4",
   "metadata": {},
   "outputs": [],
   "source": []
  },
  {
   "cell_type": "markdown",
   "id": "a4589184",
   "metadata": {},
   "source": [
    "# Batch loading with DataLoader"
   ]
  },
  {
   "cell_type": "code",
   "execution_count": 13,
   "id": "184b447b",
   "metadata": {},
   "outputs": [],
   "source": [
    "train_loader = DataLoader(train_data,batch_size = 100,shuffle=True)\n",
    "\n",
    "test_loader = DataLoader(test_data,batch_size = 500 ,shuffle=False)"
   ]
  },
  {
   "cell_type": "code",
   "execution_count": 14,
   "id": "b34f6e88",
   "metadata": {},
   "outputs": [],
   "source": [
    "from torchvision.utils import make_grid\n",
    "np.set_printoptions(formatter=dict(int=lambda x:f'{x:4}')) # formatting"
   ]
  },
  {
   "cell_type": "code",
   "execution_count": 15,
   "id": "6f18f6e2",
   "metadata": {},
   "outputs": [],
   "source": [
    "#first batch\n",
    "for images,labels in train_loader:\n",
    "    break "
   ]
  },
  {
   "cell_type": "code",
   "execution_count": 16,
   "id": "6f6b0fb4",
   "metadata": {},
   "outputs": [
    {
     "data": {
      "text/plain": [
       "torch.Size([100, 1, 28, 28])"
      ]
     },
     "execution_count": 16,
     "metadata": {},
     "output_type": "execute_result"
    }
   ],
   "source": [
    "images.shape"
   ]
  },
  {
   "cell_type": "markdown",
   "id": "8c0d1025",
   "metadata": {},
   "source": [
    "# View examples "
   ]
  },
  {
   "cell_type": "code",
   "execution_count": 17,
   "id": "047899cd",
   "metadata": {},
   "outputs": [
    {
     "name": "stdout",
     "output_type": "stream",
     "text": [
      "Labels:  [   9    7    5    1    6    5    7    8    9    6    3    9]\n"
     ]
    },
    {
     "data": {
      "image/png": "[encoded data removed]",
      "text/plain": [
       "<Figure size 700x200 with 1 Axes>"
      ]
     },
     "metadata": {},
     "output_type": "display_data"
    }
   ],
   "source": [
    "# Print the first 12 labels\n",
    "print('Labels: ', labels[:12].numpy())\n",
    "\n",
    "# Print the first 12 images\n",
    "im = make_grid(images[:12], nrow=12)  # the default nrow is 8\n",
    "plt.figure(figsize=(7,2))\n",
    "# We need to transpose the images from CWH to WHC\n",
    "plt.imshow(np.transpose(im.numpy(), (1, 2, 0)));"
   ]
  },
  {
   "cell_type": "markdown",
   "id": "5c2e55c0",
   "metadata": {},
   "source": [
    "# ANN - Perceptron Model"
   ]
  },
  {
   "cell_type": "code",
   "execution_count": 18,
   "id": "c8dffa1a",
   "metadata": {},
   "outputs": [],
   "source": [
    "import torch.nn.functional as F\n",
    "\n",
    "class MultilayerPerceptron(nn.Module):\n",
    "    def __init__(self, in_sz=784, out_sz=10, layers=[120, 84]):\n",
    "        super().__init__()\n",
    "        self.fc1 = nn.Linear(in_sz, layers[0])\n",
    "        self.fc2 = nn.Linear(layers[0], layers[1])\n",
    "        self.fc3 = nn.Linear(layers[1], out_sz)\n",
    "        self.dropout = nn.Dropout(0.5)  \n",
    "    \n",
    "    def forward(self, X):\n",
    "        X = F.relu(self.fc1(X))\n",
    "        X = self.dropout(X)  \n",
    "        X = F.relu(self.fc2(X))\n",
    "        X = self.dropout(X) \n",
    "        X = self.fc3(X)\n",
    "        return F.log_softmax(X, dim=1)\n"
   ]
  },
  {
   "cell_type": "code",
   "execution_count": 19,
   "id": "9cd98f45",
   "metadata": {},
   "outputs": [
    {
     "data": {
      "text/plain": [
       "MultilayerPerceptron(\n",
       "  (fc1): Linear(in_features=784, out_features=120, bias=True)\n",
       "  (fc2): Linear(in_features=120, out_features=84, bias=True)\n",
       "  (fc3): Linear(in_features=84, out_features=10, bias=True)\n",
       "  (dropout): Dropout(p=0.5, inplace=False)\n",
       ")"
      ]
     },
     "execution_count": 19,
     "metadata": {},
     "output_type": "execute_result"
    }
   ],
   "source": [
    "model = MultilayerPerceptron()\n",
    "model"
   ]
  },
  {
   "cell_type": "code",
   "execution_count": 20,
   "id": "09b5e110",
   "metadata": {},
   "outputs": [
    {
     "name": "stdout",
     "output_type": "stream",
     "text": [
      "94080\n",
      "120\n",
      "10080\n",
      "84\n",
      "840\n",
      "10\n"
     ]
    }
   ],
   "source": [
    "for param in model.parameters():\n",
    "    print(param.numel())"
   ]
  },
  {
   "cell_type": "markdown",
   "id": "f4c81d7c",
   "metadata": {},
   "source": [
    "94080: all conections from 784 to 120\n",
    "\n",
    "120: biases\n",
    "\n",
    "10080 :all connectors into next layer\n",
    "\n",
    "84: biases\n",
    "\n",
    "840:all connections into the next layer 84 prevoius to 10 output neurons\n",
    "\n",
    "10: output neurons\n",
    "\n",
    "sum of those 105,214 total parameters that are being adjusted by the network"
   ]
  },
  {
   "cell_type": "markdown",
   "id": "e2765c77",
   "metadata": {},
   "source": [
    "# Optimizer\n"
   ]
  },
  {
   "cell_type": "code",
   "execution_count": 21,
   "id": "58634e3e",
   "metadata": {},
   "outputs": [],
   "source": [
    "criterion = nn.CrossEntropyLoss()\n",
    "optimizer = torch.optim.Adam(model.parameters(),lr=0.001)"
   ]
  },
  {
   "cell_type": "code",
   "execution_count": 22,
   "id": "de0a319f",
   "metadata": {},
   "outputs": [
    {
     "data": {
      "text/plain": [
       "torch.Size([100, 1, 28, 28])"
      ]
     },
     "execution_count": 22,
     "metadata": {},
     "output_type": "execute_result"
    }
   ],
   "source": [
    "images.shape"
   ]
  },
  {
   "cell_type": "markdown",
   "id": "db0a861d",
   "metadata": {},
   "source": [
    "Size([100, 1, 28, 28]) --> Size([100, 1, 784])"
   ]
  },
  {
   "cell_type": "code",
   "execution_count": 23,
   "id": "b9413d62",
   "metadata": {},
   "outputs": [
    {
     "data": {
      "text/plain": [
       "torch.Size([100, 784])"
      ]
     },
     "execution_count": 23,
     "metadata": {},
     "output_type": "execute_result"
    }
   ],
   "source": [
    "images.view(100,-1).shape"
   ]
  },
  {
   "cell_type": "markdown",
   "id": "b575f1fa",
   "metadata": {},
   "source": [
    "# Training DATA"
   ]
  },
  {
   "cell_type": "code",
   "execution_count": 24,
   "id": "b483a001",
   "metadata": {},
   "outputs": [
    {
     "name": "stdout",
     "output_type": "stream",
     "text": [
      "Epoch 0  Training Loss: 0.33522 Training Accuracy: 79.83%\n",
      "Epoch 1  Training Loss: 0.36547 Training Accuracy: 90.51%\n",
      "Epoch 2  Training Loss: 0.27985 Training Accuracy: 92.32%\n",
      "Epoch 3  Training Loss: 0.25639 Training Accuracy: 93.23%\n",
      "Epoch 4  Training Loss: 0.25415 Training Accuracy: 93.65%\n",
      "Epoch 5  Training Loss: 0.18530 Training Accuracy: 94.14%\n",
      "Epoch 6  Training Loss: 0.23994 Training Accuracy: 94.42%\n",
      "Epoch 7  Training Loss: 0.32552 Training Accuracy: 94.63%\n",
      "Epoch 8  Training Loss: 0.14443 Training Accuracy: 94.94%\n",
      "Epoch 9  Training Loss: 0.07804 Training Accuracy: 95.06%\n",
      "Epoch 10  Training Loss: 0.12332 Training Accuracy: 95.18%\n"
     ]
    }
   ],
   "source": [
    "\n",
    "epochs = 11\n",
    "\n",
    "#Trackers \n",
    "    #for conduction a training of the network,it's allows to \n",
    "        #print statistics\n",
    "            #to see the results on the plot\n",
    "train_losses = []\n",
    "test_losses = []\n",
    "train_correct = []\n",
    "test_correct = []\n",
    "\n",
    "for i in range(epochs):#to know how we're getting correct trn_corr = 0 tst_corr = 0\n",
    "    trn_corr = 0\n",
    "    tst_corr = 0\n",
    "    \n",
    "    # Training\n",
    "    for b, (X_train, y_train) in enumerate(train_loader, 1):\n",
    "        y_pred = model(X_train.view(100, -1))\n",
    "        loss = criterion(y_pred, y_train)\n",
    "        # Tally the number of correct predictions\n",
    "    \n",
    "        #At the very last layer we have those 10 neurons\n",
    "        #[0.1,0.0,.....,0.8] ---> prediction\n",
    "        predicted = torch.max(y_pred.data, 1)[1]\n",
    "        batch_corr = (predicted == y_train).sum()\n",
    "        trn_corr += batch_corr\n",
    "        # How many matches do we actually have where predicted value is equal \n",
    "                    # to Y training value. \n",
    "        #And sum will give how many we got correct off that batch\n",
    "        \n",
    "        \n",
    "         # Update parameters\n",
    "        # backpropogation\n",
    "        optimizer.zero_grad()\n",
    "        loss.backward()\n",
    "        optimizer.step()\n",
    "    \n",
    "   # Update train loss & accuracy for the epoch\n",
    "    train_losses.append(loss) #training loss\n",
    "    train_correct.append(trn_corr) #train_corr to see how many we got correct during training\n",
    "    #that takes care of the training portion. \n",
    "       #We want to run test data during tha training. This will allow to understand\n",
    "       #how our test validation is going down and eventially after a certain number\n",
    "       #of epochs.\n",
    "       #We should see less return on the test results versus training results \n",
    "    \n",
    "    # Testing\n",
    "    with torch.no_grad():# we not updating the weighs and biases.\n",
    "                            #That way we're not influenced by the actual test set\n",
    "        for X_test, y_test in test_loader:\n",
    "            y_val = model(X_test.view(500, -1))# Here we flatten X_test\n",
    "            predicted = torch.max(y_val.data, 1)[1] \n",
    "            tst_corr += (predicted == y_test).sum()\n",
    "    # Update test loss & accuracy for the epoch\n",
    "    loss = criterion(y_val, y_test)\n",
    "    test_losses.append(loss)\n",
    "    test_correct.append(tst_corr)\n",
    "    \n",
    "    # Print statistics\n",
    "    acc = trn_corr.item() * 100 / len(train_loader.dataset)\n",
    "    print(f'Epoch {i}  Training Loss: {train_losses[-1]:.5f} Training Accuracy: {acc:.2f}%')\n"
   ]
  },
  {
   "cell_type": "markdown",
   "id": "f7ecfbdc",
   "metadata": {},
   "source": [
    "# Plot the loss and accuracy comparisons"
   ]
  },
  {
   "cell_type": "code",
   "execution_count": 25,
   "id": "9fe9b4e3",
   "metadata": {},
   "outputs": [
    {
     "data": {
      "image/png": "[encoded data removed]",
      "text/plain": [
       "<Figure size 640x480 with 1 Axes>"
      ]
     },
     "metadata": {},
     "output_type": "display_data"
    }
   ],
   "source": [
    "import numpy as np\n",
    "import matplotlib.pyplot as plt\n",
    "\n",
    "train_losses_np = np.array([x.detach().numpy() for x in train_losses])\n",
    "test_losses_np = np.array([x.detach().numpy() for x in test_losses])\n",
    "\n",
    "plt.plot(train_losses_np, label='training loss')\n",
    "plt.plot(test_losses_np, label='validation loss')\n",
    "plt.title('Loss at the end of each epoch')\n",
    "plt.legend()\n",
    "plt.show()"
   ]
  },
  {
   "cell_type": "code",
   "execution_count": 26,
   "id": "ad523503",
   "metadata": {},
   "outputs": [
    {
     "name": "stdout",
     "output_type": "stream",
     "text": [
      "Test accuracy: 94.370%\n"
     ]
    }
   ],
   "source": [
    "print(f'Test accuracy: {test_correct[-1].item()*100/10000:.3f}%') \n",
    "# print the most recent result as a percent"
   ]
  },
  {
   "cell_type": "code",
   "execution_count": 27,
   "id": "3d7d3387",
   "metadata": {},
   "outputs": [
    {
     "data": {
      "text/plain": [
       "[tensor(79.8350),\n",
       " tensor(90.5100),\n",
       " tensor(92.3217),\n",
       " tensor(93.2283),\n",
       " tensor(93.6500),\n",
       " tensor(94.1367),\n",
       " tensor(94.4183),\n",
       " tensor(94.6317),\n",
       " tensor(94.9450),\n",
       " tensor(95.0650),\n",
       " tensor(95.1767)]"
      ]
     },
     "execution_count": 27,
     "metadata": {},
     "output_type": "execute_result"
    }
   ],
   "source": [
    "train_acc  = [t/600 for t in train_correct] #batch - 600\n",
    "train_acc"
   ]
  },
  {
   "cell_type": "code",
   "execution_count": 28,
   "id": "d1a8814b",
   "metadata": {},
   "outputs": [],
   "source": [
    "test_acc = [t/100 for t in train_correct] #batch -100"
   ]
  },
  {
   "cell_type": "code",
   "execution_count": 29,
   "id": "67c91dd6",
   "metadata": {},
   "outputs": [
    {
     "data": {
      "text/plain": [
       "[tensor(479.0100),\n",
       " tensor(543.0600),\n",
       " tensor(553.9300),\n",
       " tensor(559.3700),\n",
       " tensor(561.9000),\n",
       " tensor(564.8200),\n",
       " tensor(566.5100),\n",
       " tensor(567.7900),\n",
       " tensor(569.6700),\n",
       " tensor(570.3900),\n",
       " tensor(571.0600)]"
      ]
     },
     "execution_count": 29,
     "metadata": {},
     "output_type": "execute_result"
    }
   ],
   "source": [
    "test_acc"
   ]
  },
  {
   "cell_type": "code",
   "execution_count": 30,
   "id": "dcbaac74",
   "metadata": {},
   "outputs": [
    {
     "data": {
      "image/png": "[encoded data removed]",
      "text/plain": [
       "<Figure size 640x480 with 1 Axes>"
      ]
     },
     "metadata": {},
     "output_type": "display_data"
    }
   ],
   "source": [
    "plt.plot([t/600 for t in train_correct], label='training accuracy')\n",
    "plt.plot([t/100 for t in test_correct], label='validation accuracy')\n",
    "plt.title('Accuracy at the end of each epoch')\n",
    "plt.legend();"
   ]
  },
  {
   "cell_type": "code",
   "execution_count": 31,
   "id": "dbbc2666",
   "metadata": {},
   "outputs": [],
   "source": [
    "# Extract the data all at once, not in batches\n",
    "test_load_all = DataLoader(test_data, batch_size=10000, shuffle=False)"
   ]
  },
  {
   "cell_type": "code",
   "execution_count": 32,
   "id": "59e848c8",
   "metadata": {},
   "outputs": [],
   "source": [
    "with torch.no_grad():\n",
    "    correct = 0\n",
    "    for X_test, y_test in test_load_all:\n",
    "        y_val = model(X_test.view(len(X_test), -1))  # pass in a flattened view of X_test\n",
    "        predicted = torch.max(y_val,1)[1]\n",
    "        correct += (predicted == y_test).sum()"
   ]
  },
  {
   "cell_type": "code",
   "execution_count": 33,
   "id": "e62b5cae",
   "metadata": {},
   "outputs": [
    {
     "name": "stdout",
     "output_type": "stream",
     "text": [
      "94.31%\n"
     ]
    }
   ],
   "source": [
    "print(f'{100*correct.item()/len(test_data)}%')"
   ]
  },
  {
   "cell_type": "markdown",
   "id": "ef65eb5a",
   "metadata": {},
   "source": [
    "# Examine the misses"
   ]
  },
  {
   "cell_type": "code",
   "execution_count": 34,
   "id": "a42f988c",
   "metadata": {},
   "outputs": [
    {
     "name": "stdout",
     "output_type": "stream",
     "text": [
      "Total number of misses: 569\n",
      "First 10 misses indices: [  18   33   62   72   83   84  124  133  175  195]\n"
     ]
    }
   ],
   "source": [
    "misses = np.where(predicted != y_test)[0]\n",
    "print(\"Total number of misses:\", len(misses))\n",
    "print(\"First 10 misses indices:\", misses[:10])"
   ]
  },
  {
   "cell_type": "code",
   "execution_count": 35,
   "id": "882a7aa6",
   "metadata": {},
   "outputs": [
    {
     "data": {
      "text/plain": [
       "array([  18,   33,   62,   72,   83,   84,  124,  133,  175,  195,  233,\n",
       "        241,  245,  257,  259,  264,  266,  290,  313,  321], dtype=int64)"
      ]
     },
     "execution_count": 35,
     "metadata": {},
     "output_type": "execute_result"
    }
   ],
   "source": [
    "misses[:20]"
   ]
  },
  {
   "cell_type": "code",
   "execution_count": 36,
   "id": "30a48bc9",
   "metadata": {},
   "outputs": [],
   "source": [
    "r = 10\n",
    "row = iter(np.array_split(misses, len(misses) // r + 1))"
   ]
  },
  {
   "cell_type": "code",
   "execution_count": 37,
   "id": "a22c1165",
   "metadata": {},
   "outputs": [
    {
     "name": "stdout",
     "output_type": "stream",
     "text": [
      "Indices:     [  18   33   62   72   83   84  124  133  175  195]\n",
      "Labels:      [   3    4    9    2    7    8    7    7    7    3]\n",
      "Predictions: [   8    0    8    3    9    5    4    3    3    5]\n"
     ]
    },
    {
     "data": {
      "image/png": "[encoded data removed]",
      "text/plain": [
       "<Figure size 1000x400 with 1 Axes>"
      ]
     },
     "metadata": {},
     "output_type": "display_data"
    }
   ],
   "source": [
    "next_row = next(row)\n",
    "print(\"Indices:    \", next_row)\n",
    "print(\"Labels:     \", y_test[next_row].numpy())\n",
    "print(\"Predictions:\", predicted[next_row].numpy())\n",
    "\n",
    "images = X_test[next_row]\n",
    "image_grid = make_grid(images, nrow=r)\n",
    "plt.figure(figsize=(10, 4))\n",
    "plt.imshow(np.transpose(image_grid.numpy(), (1, 2, 0)))\n",
    "plt.show()"
   ]
  }
 ],
 "metadata": {
  "kernelspec": {
   "display_name": "Python 3 (ipykernel)",
   "language": "python",
   "name": "python3"
  },
  "language_info": {
   "codemirror_mode": {
    "name": "ipython",
    "version": 3
   },
   "file_extension": ".py",
   "mimetype": "text/x-python",
   "name": "python",
   "nbconvert_exporter": "python",
   "pygments_lexer": "ipython3",
   "version": "3.9.13"
  }
 },
 "nbformat": 4,
 "nbformat_minor": 5
}
